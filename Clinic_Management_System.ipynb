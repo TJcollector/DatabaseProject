{
  "nbformat": 4,
  "nbformat_minor": 0,
  "metadata": {
    "colab": {
      "provenance": [],
      "authorship_tag": "ABX9TyONGnDd2gfZxpLUA1f4csXp",
      "include_colab_link": true
    },
    "kernelspec": {
      "name": "python3",
      "display_name": "Python 3"
    },
    "language_info": {
      "name": "python"
    }
  },
  "cells": [
    {
      "cell_type": "markdown",
      "metadata": {
        "id": "view-in-github",
        "colab_type": "text"
      },
      "source": [
        "<a href=\"https://colab.research.google.com/github/TJcollector/DatabaseProject/blob/main/Clinic_Management_System.ipynb\" target=\"_parent\"><img src=\"https://colab.research.google.com/assets/colab-badge.svg\" alt=\"Open In Colab\"/></a>"
      ]
    },
    {
      "cell_type": "markdown",
      "source": [
        "# Clinic Management System\n"
      ],
      "metadata": {
        "id": "A7FIDehG0VkO"
      }
    },
    {
      "cell_type": "markdown",
      "source": [
        "Creating tables with fabricated info as an example display."
      ],
      "metadata": {
        "id": "0nFvtryk0pSh"
      }
    },
    {
      "cell_type": "code",
      "execution_count": 1,
      "metadata": {
        "colab": {
          "base_uri": "https://localhost:8080/"
        },
        "id": "DpucuI-6xgUl",
        "outputId": "bdaec5e4-8315-4ab6-cdae-1fb85d0f0418"
      },
      "outputs": [
        {
          "output_type": "stream",
          "name": "stdout",
          "text": [
            "Tables created successfully.\n"
          ]
        }
      ],
      "source": [
        "import sqlite3\n",
        "\n",
        "conn = sqlite3.connect('clinic_management_system.db')\n",
        "cursor = conn.cursor()\n",
        "\n",
        "create_tables_sql = \"\"\"\n",
        "-- Table 1: Patient\n",
        "CREATE TABLE IF NOT EXISTS Patient (\n",
        "    PatientID INTEGER PRIMARY KEY,\n",
        "    FirstName TEXT,\n",
        "    LastName TEXT,\n",
        "    DateOfBirth TEXT,\n",
        "    Gender TEXT,\n",
        "    ContactInfo TEXT,\n",
        "    Address TEXT,\n",
        "    MedicalHistory TEXT\n",
        ");\n",
        "\n",
        "-- Table 2: Doctor\n",
        "CREATE TABLE IF NOT EXISTS Doctor (\n",
        "    DoctorID INTEGER PRIMARY KEY,\n",
        "    FirstName TEXT,\n",
        "    LastName TEXT,\n",
        "    Specialization TEXT,\n",
        "    ContactInfo TEXT,\n",
        "    Availability TEXT\n",
        ");\n",
        "\n",
        "-- Table 3: Staff\n",
        "CREATE TABLE IF NOT EXISTS Staff (\n",
        "    StaffID INTEGER PRIMARY KEY,\n",
        "    FirstName TEXT,\n",
        "    LastName TEXT,\n",
        "    Role TEXT,\n",
        "    ContactInfo TEXT,\n",
        "    BranchID INTEGER,\n",
        "    FOREIGN KEY (BranchID) REFERENCES Branch(BranchID)\n",
        ");\n",
        "\n",
        "-- Table 4: Appointment\n",
        "CREATE TABLE IF NOT EXISTS Appointment (\n",
        "    AppointmentID INTEGER PRIMARY KEY,\n",
        "    PatientID INTEGER,\n",
        "    DoctorID INTEGER,\n",
        "    BranchID INTEGER,\n",
        "    Date TEXT,\n",
        "    Time TEXT,\n",
        "    Status TEXT,\n",
        "    FOREIGN KEY (PatientID) REFERENCES Patient(PatientID),\n",
        "    FOREIGN KEY (DoctorID) REFERENCES Doctor(DoctorID),\n",
        "    FOREIGN KEY (BranchID) REFERENCES Branch(BranchID)\n",
        ");\n",
        "\n",
        "-- Table 5: Bills\n",
        "CREATE TABLE IF NOT EXISTS Bills (\n",
        "    BillID INTEGER PRIMARY KEY,\n",
        "    AppointmentID INTEGER,\n",
        "    TestID INTEGER,\n",
        "    Amount REAL,\n",
        "    PaymentStatus TEXT,\n",
        "    DateOfPayment TEXT,\n",
        "    FOREIGN KEY (AppointmentID) REFERENCES Appointment(AppointmentID),\n",
        "    FOREIGN KEY (TestID) REFERENCES MedicalTest(TestID)\n",
        ");\n",
        "\n",
        "-- Table 6: MedicalTest\n",
        "CREATE TABLE IF NOT EXISTS MedicalTest (\n",
        "    TestID INTEGER PRIMARY KEY,\n",
        "    PatientID INTEGER,\n",
        "    DoctorID INTEGER,\n",
        "    BranchID INTEGER,\n",
        "    TestName TEXT,\n",
        "    TestDate TEXT,\n",
        "    TestResults TEXT,\n",
        "    TestStatus TEXT,\n",
        "    FOREIGN KEY (PatientID) REFERENCES Patient(PatientID),\n",
        "    FOREIGN KEY (DoctorID) REFERENCES Doctor(DoctorID),\n",
        "    FOREIGN KEY (BranchID) REFERENCES Branch(BranchID)\n",
        ");\n",
        "\n",
        "-- Table 7: Branch\n",
        "CREATE TABLE IF NOT EXISTS Branch (\n",
        "    BranchID INTEGER PRIMARY KEY,\n",
        "    BranchName TEXT,\n",
        "    Address TEXT,\n",
        "    ContactInfo TEXT\n",
        ");\n",
        "\n",
        "-- Table 8: MedicationInventory\n",
        "CREATE TABLE IF NOT EXISTS MedicationInventory (\n",
        "    MedicationID INTEGER PRIMARY KEY,\n",
        "    MedicationName TEXT,\n",
        "    BranchID INTEGER,\n",
        "    StockQuantity INTEGER,\n",
        "    ExpirationDate TEXT\n",
        ");\n",
        "\n",
        "-- Table 9: Prescription\n",
        "CREATE TABLE IF NOT EXISTS Prescription (\n",
        "    PrescriptionID INTEGER PRIMARY KEY,\n",
        "    PatientID INTEGER,\n",
        "    DoctorID INTEGER,\n",
        "    MedicationID INTEGER,\n",
        "    DateIssued TEXT,\n",
        "    Dosage TEXT,\n",
        "    Duration TEXT,\n",
        "    FOREIGN KEY (PatientID) REFERENCES Patient(PatientID),\n",
        "    FOREIGN KEY (DoctorID) REFERENCES Doctor(DoctorID),\n",
        "    FOREIGN KEY (MedicationID) REFERENCES MedicationInventory(MedicationID)\n",
        ");\n",
        "\"\"\"\n",
        "\n",
        "cursor.executescript(create_tables_sql)\n",
        "conn.commit()\n",
        "\n",
        "cursor.execute('''\n",
        "    INSERT INTO Patient (PatientID, FirstName, LastName, DateOfBirth, Gender, ContactInfo, Address, MedicalHistory)\n",
        "    VALUES\n",
        "    (1, 'John', 'Doe', '1980-05-15', 'Male', '123-456-7890', 'Wolf Street 29', 'Diabetes'),\n",
        "    (2, 'Jane', 'Smith', '1990-08-25', 'Female', '987-654-3210', 'Beckninghamn Palace', 'Asthma'),\n",
        "    (3, 'Alice', 'Johnson', '1975-03-10', 'Female', '555-123-4567', '45 Riverdale Arkansas', 'Hypertension');\n",
        "''')\n",
        "\n",
        "cursor.execute('''\n",
        "    INSERT INTO Doctor (DoctorID, FirstName, LastName, Specialization, ContactInfo, Availability)\n",
        "    VALUES\n",
        "    (1, 'Dr. Emily', 'Williams', 'Cardiologist', '111-222-3333', 'Yes'),\n",
        "    (2, 'Dr. David', 'Brown', 'Pediatrician', '444-555-6666', 'No'),\n",
        "    (3, 'Dr. Linda', 'Miller', 'Dermatologist', '777-888-9999', 'Yes');\n",
        "''')\n",
        "\n",
        "cursor.execute('''\n",
        "    INSERT INTO Staff (StaffID, FirstName, LastName, Role, ContactInfo, BranchID)\n",
        "    VALUES\n",
        "    (1, 'Mark', 'Lee', 'Nurse', '333-444-5555', 1),\n",
        "    (2, 'Rachel', 'Taylor', 'Receptionist', '666-777-8888', 2),\n",
        "    (3, 'Sophia', 'Harris', 'Administrator', '999-000-1111', 3);\n",
        "''')\n",
        "\n",
        "cursor.execute('''\n",
        "    INSERT INTO Appointment (AppointmentID, PatientID, DoctorID, BranchID, Date, Time, Status)\n",
        "    VALUES\n",
        "    (1, 8, 85, 6, '2024-12-05', '09:00', 'Scheduled'),\n",
        "    (2, 4, 27, 5, '2024-12-06', '14:00', 'Completed'),\n",
        "    (3, 45, 953, 9, '2024-12-07', '11:30', 'Cancelled');\n",
        "''')\n",
        "\n",
        "cursor.execute('''\n",
        "    INSERT INTO Bills (BillID, AppointmentID, TestID, Amount, PaymentStatus, DateOfPayment)\n",
        "    VALUES\n",
        "    (1, 65, 1, 150.00, 'Paid', '2024-12-05'),\n",
        "    (2, 32, 2, 200.00, 'Pending', '2024-12-06'),\n",
        "    (3, 93, 3, 250.00, 'Paid', '2024-12-07');\n",
        "''')\n",
        "\n",
        "cursor.execute('''\n",
        "    INSERT INTO MedicalTest (TestID, PatientID, DoctorID, BranchID, TestName, TestDate, TestResults, TestStatus)\n",
        "    VALUES\n",
        "    (1, 345, 9, 3, 'Blood Pressure Test', '2024-12-05', 'Normal', 'Completed'),\n",
        "    (2, 89, 6, 5, 'Chest X-ray', '2024-12-06', 'No Issues', 'Pending'),\n",
        "    (3, 285, 8, 6, 'Skin Biopsy', '2024-12-07', 'Benign', 'Completed');\n",
        "''')\n",
        "\n",
        "cursor.execute('''\n",
        "    INSERT INTO Branch (BranchID, BranchName, Address, ContactInfo)\n",
        "    VALUES\n",
        "    (1, 'Downtown Clinic', '123 Main St, City', '111-000-2222'),\n",
        "    (2, 'Westside Clinic', '456 Elm St, City', '333-000-4444'),\n",
        "    (3, 'Eastside Clinic', '789 Oak St, City', '555-000-6666');\n",
        "''')\n",
        "\n",
        "cursor.execute('''\n",
        "    INSERT INTO MedicationInventory (MedicationID, BranchID, MedicationName, StockQuantity, ExpirationDate)\n",
        "    VALUES\n",
        "    (1, 5, 'Aspirin', 500, '2025-06-30'),\n",
        "    (2, 9, 'Ibuprofen', 300, '2024-12-15'),\n",
        "    (3, 4, 'Amoxicillin', 100, '2026-01-10');\n",
        "''')\n",
        "\n",
        "cursor.execute('''\n",
        "    INSERT INTO Prescription (PrescriptionID, PatientID, DoctorID, MedicationID, DateIssued, Dosage, Duration)\n",
        "    VALUES\n",
        "    (1, 7, 97, 13, '2024-12-05', '1 tablet daily', '7 days'),\n",
        "    (2, 26, 72, 42, '2024-12-06', '2 tablets daily', '5 days'),\n",
        "    (3, 41, 33, 63, '2024-12-07', '1 capsule twice a day', '10 days');\n",
        "''')\n",
        "\n",
        "conn.commit()\n",
        "conn.close()\n",
        "print(\"Tables created successfully.\")"
      ]
    },
    {
      "cell_type": "markdown",
      "source": [
        "# Le Tables"
      ],
      "metadata": {
        "id": "B4kXA1c-02Uj"
      }
    },
    {
      "cell_type": "code",
      "source": [
        "import sqlite3\n",
        "import pandas as pd\n",
        "\n",
        "pd.set_option('display.max_columns', None)\n",
        "pd.set_option('display.width', 1000)\n",
        "\n",
        "conn = sqlite3.connect('clinic_management_system.db')\n",
        "cursor = conn.cursor()\n",
        "\n",
        "tables = [\n",
        "    \"Patient\",\n",
        "    \"Doctor\",\n",
        "    \"Staff\",\n",
        "    \"Appointment\",\n",
        "    \"Bills\",\n",
        "    \"MedicalTest\",\n",
        "    \"Branch\",\n",
        "    \"MedicationInventory\",\n",
        "    \"Prescription\"\n",
        "]\n",
        "\n",
        "for table in tables:\n",
        "    print(f\"Contents of {table}:\")\n",
        "    query = f\"SELECT * FROM {table};\"\n",
        "    cursor.execute(query)\n",
        "    rows = cursor.fetchall()\n",
        "    column_names = [description[0] for description in cursor.description]\n",
        "    df = pd.DataFrame(rows, columns=column_names)\n",
        "    print(df)\n",
        "    print(\"\\n\" + \"=\"*50 + \"\\n\")\n",
        "\n",
        "conn.close()"
      ],
      "metadata": {
        "colab": {
          "base_uri": "https://localhost:8080/"
        },
        "id": "P-0bmuOGxqkm",
        "outputId": "d18ab43c-6376-44c7-9c9d-fc31e68829cb"
      },
      "execution_count": 3,
      "outputs": [
        {
          "output_type": "stream",
          "name": "stdout",
          "text": [
            "Contents of Patient:\n",
            "   PatientID FirstName LastName DateOfBirth  Gender   ContactInfo                Address MedicalHistory\n",
            "0          1      John      Doe  1980-05-15    Male  123-456-7890         Wolf Street 29       Diabetes\n",
            "1          2      Jane    Smith  1990-08-25  Female  987-654-3210    Beckninghamn Palace         Asthma\n",
            "2          3     Alice  Johnson  1975-03-10  Female  555-123-4567  45 Riverdale Arkansas   Hypertension\n",
            "\n",
            "==================================================\n",
            "\n",
            "Contents of Doctor:\n",
            "   DoctorID  FirstName  LastName Specialization   ContactInfo Availability\n",
            "0         1  Dr. Emily  Williams   Cardiologist  111-222-3333          Yes\n",
            "1         2  Dr. David     Brown   Pediatrician  444-555-6666           No\n",
            "2         3  Dr. Linda    Miller  Dermatologist  777-888-9999          Yes\n",
            "\n",
            "==================================================\n",
            "\n",
            "Contents of Staff:\n",
            "   StaffID FirstName LastName           Role   ContactInfo  BranchID\n",
            "0        1      Mark      Lee          Nurse  333-444-5555         1\n",
            "1        2    Rachel   Taylor   Receptionist  666-777-8888         2\n",
            "2        3    Sophia   Harris  Administrator  999-000-1111         3\n",
            "\n",
            "==================================================\n",
            "\n",
            "Contents of Appointment:\n",
            "   AppointmentID  PatientID  DoctorID  BranchID        Date   Time     Status\n",
            "0              1          8        85         6  2024-12-05  09:00  Scheduled\n",
            "1              2          4        27         5  2024-12-06  14:00  Completed\n",
            "2              3         45       953         9  2024-12-07  11:30  Cancelled\n",
            "\n",
            "==================================================\n",
            "\n",
            "Contents of Bills:\n",
            "   BillID  AppointmentID  TestID  Amount PaymentStatus DateOfPayment\n",
            "0       1             65       1   150.0          Paid    2024-12-05\n",
            "1       2             32       2   200.0       Pending    2024-12-06\n",
            "2       3             93       3   250.0          Paid    2024-12-07\n",
            "\n",
            "==================================================\n",
            "\n",
            "Contents of MedicalTest:\n",
            "   TestID  PatientID  DoctorID  BranchID             TestName    TestDate TestResults TestStatus\n",
            "0       1        345         9         3  Blood Pressure Test  2024-12-05      Normal  Completed\n",
            "1       2         89         6         5          Chest X-ray  2024-12-06   No Issues    Pending\n",
            "2       3        285         8         6          Skin Biopsy  2024-12-07      Benign  Completed\n",
            "\n",
            "==================================================\n",
            "\n",
            "Contents of Branch:\n",
            "   BranchID       BranchName            Address   ContactInfo\n",
            "0         1  Downtown Clinic  123 Main St, City  111-000-2222\n",
            "1         2  Westside Clinic   456 Elm St, City  333-000-4444\n",
            "2         3  Eastside Clinic   789 Oak St, City  555-000-6666\n",
            "\n",
            "==================================================\n",
            "\n",
            "Contents of MedicationInventory:\n",
            "   MedicationID MedicationName  BranchID  StockQuantity ExpirationDate\n",
            "0             1        Aspirin         5            500     2025-06-30\n",
            "1             2      Ibuprofen         9            300     2024-12-15\n",
            "2             3    Amoxicillin         4            100     2026-01-10\n",
            "\n",
            "==================================================\n",
            "\n",
            "Contents of Prescription:\n",
            "   PrescriptionID  PatientID  DoctorID  MedicationID  DateIssued                 Dosage Duration\n",
            "0               1          7        97            13  2024-12-05         1 tablet daily   7 days\n",
            "1               2         26        72            42  2024-12-06        2 tablets daily   5 days\n",
            "2               3         41        33            63  2024-12-07  1 capsule twice a day  10 days\n",
            "\n",
            "==================================================\n",
            "\n"
          ]
        }
      ]
    },
    {
      "cell_type": "markdown",
      "source": [
        "**UNF**"
      ],
      "metadata": {
        "id": "rfxQPTo_09Ld"
      }
    },
    {
      "cell_type": "markdown",
      "source": [
        "This is UNF from combining 9 tables"
      ],
      "metadata": {
        "id": "_3z45cLw49S3"
      }
    },
    {
      "cell_type": "code",
      "source": [
        "import sqlite3\n",
        "import pandas as pd\n",
        "\n",
        "conn = sqlite3.connect('clinic_management_system.db')\n",
        "cursor = conn.cursor()\n",
        "\n",
        "unf_query = \"\"\"\n",
        "SELECT\n",
        "    Patient.PatientID,\n",
        "    Patient.FirstName AS PatientFirstName,\n",
        "    Patient.LastName AS PatientLastName,\n",
        "    Patient.DateOfBirth,\n",
        "    Patient.Gender,\n",
        "    Patient.ContactInfo AS PatientContact,\n",
        "    Patient.Address AS PatientAddress,\n",
        "    Patient.MedicalHistory,\n",
        "    Doctor.DoctorID,\n",
        "    Doctor.FirstName AS DoctorFirstName,\n",
        "    Doctor.LastName AS DoctorLastName,\n",
        "    Doctor.Specialization,\n",
        "    Doctor.ContactInfo AS DoctorContact,\n",
        "    Doctor.Availability,\n",
        "    Staff.StaffID,\n",
        "    Staff.FirstName AS StaffFirstName,\n",
        "    Staff.LastName AS StaffLastName,\n",
        "    Staff.Role,\n",
        "    Staff.ContactInfo AS StaffContact,\n",
        "    Branch.BranchID,\n",
        "    Branch.BranchName,\n",
        "    Branch.Address AS BranchAddress,\n",
        "    Branch.ContactInfo AS BranchContact,\n",
        "    Appointment.AppointmentID,\n",
        "    Appointment.Date AS AppointmentDate,\n",
        "    Appointment.Time AS AppointmentTime,\n",
        "    Appointment.Status AS AppointmentStatus,\n",
        "    Bills.BillID,\n",
        "    Bills.Amount AS BillAmount,\n",
        "    Bills.PaymentStatus,\n",
        "    Bills.DateOfPayment,\n",
        "    MedicalTest.TestID,\n",
        "    MedicalTest.TestName,\n",
        "    MedicalTest.TestDate,\n",
        "    MedicalTest.TestResults,\n",
        "    MedicalTest.TestStatus,\n",
        "    MedicationInventory.MedicationID,\n",
        "    MedicationInventory.MedicationName,\n",
        "    MedicationInventory.StockQuantity,\n",
        "    MedicationInventory.ExpirationDate,\n",
        "    Prescription.PrescriptionID,\n",
        "    Prescription.DateIssued,\n",
        "    Prescription.Dosage,\n",
        "    Prescription.Duration\n",
        "FROM\n",
        "    Patient\n",
        "LEFT JOIN Appointment ON Patient.PatientID = Appointment.PatientID\n",
        "LEFT JOIN Doctor ON Appointment.DoctorID = Doctor.DoctorID\n",
        "LEFT JOIN Branch ON Appointment.BranchID = Branch.BranchID\n",
        "LEFT JOIN Staff ON Staff.BranchID = Branch.BranchID\n",
        "LEFT JOIN Bills ON Appointment.AppointmentID = Bills.AppointmentID\n",
        "LEFT JOIN MedicalTest ON Bills.TestID = MedicalTest.TestID\n",
        "LEFT JOIN Prescription ON Patient.PatientID = Prescription.PatientID\n",
        "LEFT JOIN MedicationInventory ON Prescription.MedicationID = MedicationInventory.MedicationID;\n",
        "\"\"\"\n",
        "\n",
        "cursor.execute(unf_query)\n",
        "unf_rows = cursor.fetchall()\n",
        "\n",
        "columns = [desc[0] for desc in cursor.description]\n",
        "unf_table = pd.DataFrame(unf_rows, columns=columns)\n",
        "\n",
        "print(\"Unnormalized Form (UNF) Table:\")\n",
        "print(unf_table)\n",
        "unf_table.to_csv(\"unf_table.csv\", index=False)\n",
        "print(\"UNF table created and saved as 'unf_table.csv'\")"
      ],
      "metadata": {
        "colab": {
          "base_uri": "https://localhost:8080/"
        },
        "id": "idHNSiU_z2PG",
        "outputId": "ab6942ba-1a89-43c7-9d95-afe19e923ef8"
      },
      "execution_count": 6,
      "outputs": [
        {
          "output_type": "stream",
          "name": "stdout",
          "text": [
            "Unnormalized Form (UNF) Table:\n",
            "   PatientID PatientFirstName PatientLastName DateOfBirth  Gender PatientContact         PatientAddress MedicalHistory DoctorID DoctorFirstName DoctorLastName Specialization DoctorContact Availability StaffID StaffFirstName StaffLastName  Role StaffContact BranchID BranchName BranchAddress BranchContact AppointmentID AppointmentDate AppointmentTime AppointmentStatus BillID BillAmount PaymentStatus DateOfPayment TestID TestName TestDate TestResults TestStatus MedicationID MedicationName StockQuantity ExpirationDate PrescriptionID DateIssued Dosage Duration\n",
            "0          1             John             Doe  1980-05-15    Male   123-456-7890         Wolf Street 29       Diabetes     None            None           None           None          None         None    None           None          None  None         None     None       None          None          None          None            None            None              None   None       None          None          None   None     None     None        None       None         None           None          None           None           None       None   None     None\n",
            "1          2             Jane           Smith  1990-08-25  Female   987-654-3210    Beckninghamn Palace         Asthma     None            None           None           None          None         None    None           None          None  None         None     None       None          None          None          None            None            None              None   None       None          None          None   None     None     None        None       None         None           None          None           None           None       None   None     None\n",
            "2          3            Alice         Johnson  1975-03-10  Female   555-123-4567  45 Riverdale Arkansas   Hypertension     None            None           None           None          None         None    None           None          None  None         None     None       None          None          None          None            None            None              None   None       None          None          None   None     None     None        None       None         None           None          None           None           None       None   None     None\n",
            "UNF table created and saved as 'unf_table.csv'\n"
          ]
        }
      ]
    },
    {
      "cell_type": "markdown",
      "source": [
        "However my values are all single so there wont be a difference between UNF and 1NF. So I made a replica of the UNF but made Medical history multiple valued."
      ],
      "metadata": {
        "id": "rHkkBmfq43x1"
      }
    },
    {
      "cell_type": "code",
      "source": [
        "import sqlite3\n",
        "\n",
        "conn = sqlite3.connect('patients.db')\n",
        "cursor = conn.cursor()\n",
        "cursor.execute(\"\"\"\n",
        "CREATE TABLE IF NOT EXISTS Patient_UNF (\n",
        "    PatientID INTEGER PRIMARY KEY,\n",
        "    FirstName TEXT,\n",
        "    LastName TEXT,\n",
        "    MedicalHistory TEXT,  -- Multivalued\n",
        "    ContactInfo TEXT,     -- Multivalued\n",
        "    Address TEXT\n",
        ");\n",
        "\"\"\")\n",
        "\n",
        "cursor.execute(\"DELETE FROM Patient_UNF;\")\n",
        "cursor.execute(\"\"\"\n",
        "INSERT INTO Patient_UNF (PatientID, FirstName, LastName, MedicalHistory, ContactInfo, Address)\n",
        "VALUES\n",
        "    (1, 'John', 'Doe', 'Diabetes, Hypertension', '123-456-7890, 987-654-3210', 'Wolf Street 29'),\n",
        "    (2, 'Jane', 'Smith', 'Asthma, Allergy', '111-222-3333', 'Beckninghamn Palace'),\n",
        "    (3, 'Alice', 'Johnson', 'Hypertension', '555-123-4567', '45 Riverdale Arkansas');\n",
        "\"\"\")\n",
        "conn.commit()\n",
        "\n",
        "cursor.execute(\"SELECT * FROM Patient_UNF;\")\n",
        "unf_data = cursor.fetchall()\n",
        "\n",
        "print(\"Patient_UNF Table (in original format):\")\n",
        "for row in unf_data:\n",
        "    print(row)\n",
        "\n",
        "conn.close()"
      ],
      "metadata": {
        "colab": {
          "base_uri": "https://localhost:8080/"
        },
        "id": "_CYUVpem24nP",
        "outputId": "58ea6a26-a6d1-401d-f8f2-29818a7f00b7"
      },
      "execution_count": 29,
      "outputs": [
        {
          "output_type": "stream",
          "name": "stdout",
          "text": [
            "Patient_UNF Table (in original format):\n",
            "(1, 'John', 'Doe', 'Diabetes, Hypertension', '123-456-7890, 987-654-3210', 'Wolf Street 29')\n",
            "(2, 'Jane', 'Smith', 'Asthma, Allergy', '111-222-3333', 'Beckninghamn Palace')\n",
            "(3, 'Alice', 'Johnson', 'Hypertension', '555-123-4567', '45 Riverdale Arkansas')\n"
          ]
        }
      ]
    },
    {
      "cell_type": "markdown",
      "source": [
        "**1NF**"
      ],
      "metadata": {
        "id": "5U_Nowgv6DV9"
      }
    },
    {
      "cell_type": "code",
      "source": [
        "import sqlite3\n",
        "\n",
        "conn = sqlite3.connect('patients.db')\n",
        "cursor = conn.cursor()\n",
        "cursor.execute(\"DROP TABLE IF EXISTS Patient_1NF;\")\n",
        "\n",
        "cursor.execute(\"\"\"\n",
        "CREATE TABLE IF NOT EXISTS Patient_1NF (\n",
        "    PatientID INTEGER,\n",
        "    FirstName TEXT,\n",
        "    LastName TEXT,\n",
        "    MedicalHistory TEXT,\n",
        "    ContactInfo TEXT,\n",
        "    Address TEXT\n",
        ");\n",
        "\"\"\")\n",
        "\n",
        "cursor.execute(\"DELETE FROM Patient_1NF;\")\n",
        "\n",
        "patient_data = [\n",
        "    (1, 'John', 'Doe', 'Diabetes, Hypertension', '123-456-7890, 987-654-3210', 'Wolf Street 29'),\n",
        "    (2, 'Jane', 'Smith', 'Asthma, Allergy', '111-222-3333', 'Beckninghamn Palace'),\n",
        "    (3, 'Alice', 'Johnson', 'Hypertension', '555-123-4567', '45 Riverdale Arkansas')\n",
        "]\n",
        "\n",
        "for patient in patient_data:\n",
        "    patient_id, first_name, last_name, medical_history, contact_info, address = patient\n",
        "\n",
        "    medical_history_values = medical_history.split(', ')\n",
        "    contact_info_values = contact_info.split(', ')\n",
        "\n",
        "    for medical in medical_history_values:\n",
        "        for contact in contact_info_values:\n",
        "            cursor.execute(\"\"\"\n",
        "            INSERT INTO Patient_1NF (PatientID, FirstName, LastName, MedicalHistory, ContactInfo, Address)\n",
        "            VALUES (?, ?, ?, ?, ?, ?)\n",
        "            \"\"\", (patient_id, first_name, last_name, medical, contact, address))\n",
        "\n",
        "conn.commit()\n",
        "\n",
        "cursor.execute(\"SELECT * FROM Patient_1NF;\")\n",
        "print(\"Patient_1NF Table:\")\n",
        "for row in cursor.fetchall():\n",
        "    print(row)\n",
        "\n",
        "conn.close()"
      ],
      "metadata": {
        "colab": {
          "base_uri": "https://localhost:8080/"
        },
        "id": "UyrxhpwJ59iu",
        "outputId": "eb952ffc-a6e5-4af9-d3d8-6b1259977376"
      },
      "execution_count": 30,
      "outputs": [
        {
          "output_type": "stream",
          "name": "stdout",
          "text": [
            "Patient_1NF Table:\n",
            "(1, 'John', 'Doe', 'Diabetes', '123-456-7890', 'Wolf Street 29')\n",
            "(1, 'John', 'Doe', 'Diabetes', '987-654-3210', 'Wolf Street 29')\n",
            "(1, 'John', 'Doe', 'Hypertension', '123-456-7890', 'Wolf Street 29')\n",
            "(1, 'John', 'Doe', 'Hypertension', '987-654-3210', 'Wolf Street 29')\n",
            "(2, 'Jane', 'Smith', 'Asthma', '111-222-3333', 'Beckninghamn Palace')\n",
            "(2, 'Jane', 'Smith', 'Allergy', '111-222-3333', 'Beckninghamn Palace')\n",
            "(3, 'Alice', 'Johnson', 'Hypertension', '555-123-4567', '45 Riverdale Arkansas')\n"
          ]
        }
      ]
    },
    {
      "cell_type": "markdown",
      "source": [
        "**2NF**\n",
        "\n",
        "In 1NF, we split multivalued attributes like MedicalHistory and ContactInfo into separate rows.\n",
        "In 2NF, we remove partial dependencies. This means we separate attributes that depend only on a part of the primary key.\n",
        "Here, the table already has a single-column primary key (PatientID), so we’ll focus on ensuring there are no partial dependencies."
      ],
      "metadata": {
        "id": "ekeD0PDw1th-"
      }
    },
    {
      "cell_type": "code",
      "source": [
        "import sqlite3\n",
        "\n",
        "conn = sqlite3.connect('patients.db')\n",
        "cursor = conn.cursor()\n",
        "\n",
        "cursor.execute(\"\"\"\n",
        "CREATE TABLE IF NOT EXISTS Patient_2NF (\n",
        "    PatientID INTEGER PRIMARY KEY,\n",
        "    FirstName TEXT,\n",
        "    LastName TEXT,\n",
        "    Address TEXT\n",
        ");\n",
        "\"\"\")\n",
        "\n",
        "cursor.execute(\"\"\"\n",
        "CREATE TABLE IF NOT EXISTS MedicalHistory_2NF (\n",
        "    PatientID INTEGER,\n",
        "    MedicalHistory TEXT,\n",
        "    FOREIGN KEY (PatientID) REFERENCES Patient_2NF(PatientID)\n",
        ");\n",
        "\"\"\")\n",
        "\n",
        "cursor.execute(\"\"\"\n",
        "CREATE TABLE IF NOT EXISTS ContactInfo_2NF (\n",
        "    PatientID INTEGER,\n",
        "    ContactInfo TEXT,\n",
        "    FOREIGN KEY (PatientID) REFERENCES Patient_2NF(PatientID)\n",
        ");\n",
        "\"\"\")\n",
        "\n",
        "cursor.execute(\"DELETE FROM Patient_2NF;\")\n",
        "cursor.execute(\"DELETE FROM MedicalHistory_2NF;\")\n",
        "cursor.execute(\"DELETE FROM ContactInfo_2NF;\")\n",
        "\n",
        "cursor.execute(\"\"\"\n",
        "INSERT INTO Patient_2NF (PatientID, FirstName, LastName, Address)\n",
        "SELECT DISTINCT PatientID, FirstName, LastName, Address FROM Patient_UNF;\n",
        "\"\"\")\n",
        "\n",
        "cursor.execute(\"SELECT PatientID, MedicalHistory FROM Patient_UNF;\")\n",
        "medical_rows = cursor.fetchall()\n",
        "for row in medical_rows:\n",
        "    patient_id, medical_history = row\n",
        "    medical_history_values = medical_history.split(\", \")\n",
        "    for medical in medical_history_values:\n",
        "        cursor.execute(\"\"\"\n",
        "        INSERT INTO MedicalHistory_2NF (PatientID, MedicalHistory)\n",
        "        VALUES (?, ?);\n",
        "        \"\"\", (patient_id, medical))\n",
        "\n",
        "cursor.execute(\"SELECT PatientID, ContactInfo FROM Patient_UNF;\")\n",
        "contact_rows = cursor.fetchall()\n",
        "for row in contact_rows:\n",
        "    patient_id, contact_info = row\n",
        "    contact_info_values = contact_info.split(\", \")\n",
        "    for contact in contact_info_values:\n",
        "        cursor.execute(\"\"\"\n",
        "        INSERT INTO ContactInfo_2NF (PatientID, ContactInfo)\n",
        "        VALUES (?, ?);\n",
        "        \"\"\", (patient_id, contact))\n",
        "\n",
        "conn.commit()\n",
        "\n",
        "cursor.execute(\"SELECT * FROM Patient_2NF;\")\n",
        "print(\"Patient_2NF Table:\")\n",
        "print(cursor.fetchall())\n",
        "\n",
        "cursor.execute(\"SELECT * FROM MedicalHistory_2NF;\")\n",
        "print(\"MedicalHistory_2NF Table:\")\n",
        "print(cursor.fetchall())\n",
        "\n",
        "cursor.execute(\"SELECT * FROM ContactInfo_2NF;\")\n",
        "print(\"ContactInfo_2NF Table:\")\n",
        "print(cursor.fetchall())\n",
        "\n",
        "conn.close()"
      ],
      "metadata": {
        "colab": {
          "base_uri": "https://localhost:8080/"
        },
        "id": "Wz3y9ILL6Q8w",
        "outputId": "8f1c6aba-699a-4f71-ecb8-5bf9514023eb"
      },
      "execution_count": 33,
      "outputs": [
        {
          "output_type": "stream",
          "name": "stdout",
          "text": [
            "Patient_2NF Table:\n",
            "[(1, 'John', 'Doe', 'Wolf Street 29'), (2, 'Jane', 'Smith', 'Beckninghamn Palace'), (3, 'Alice', 'Johnson', '45 Riverdale Arkansas')]\n",
            "MedicalHistory_2NF Table:\n",
            "[(1, 'Diabetes'), (1, 'Hypertension'), (2, 'Asthma'), (2, 'Allergy'), (3, 'Hypertension')]\n",
            "ContactInfo_2NF Table:\n",
            "[(1, '123-456-7890'), (1, '987-654-3210'), (2, '111-222-3333'), (3, '555-123-4567')]\n"
          ]
        }
      ]
    },
    {
      "cell_type": "markdown",
      "source": [
        "The output for 3NF will be very similar to 2NF, as there are no additional non-prime attributes that require further normalization. The schema is already in its final form."
      ],
      "metadata": {
        "id": "i4b7qam4ACPo"
      }
    }
  ]
}